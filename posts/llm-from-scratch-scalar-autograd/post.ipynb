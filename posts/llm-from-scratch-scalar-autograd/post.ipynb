{
  "cells": [
    {
      "cell_type": "markdown",
      "id": "5e4f1745-1c11-4acc-87ba-5bdf0fc3f0fe",
      "metadata": {},
      "source": [
        "# Building an LLM from scratch\n",
        "\n",
        "Ben Clarkson  \n",
        "2023-02-10"
      ]
    },
    {
      "cell_type": "code",
      "execution_count": 1,
      "id": "1df9fa7e",
      "metadata": {},
      "outputs": [],
      "source": [
        "from typing import Any, Optional, List\n",
        "\n",
        "import networkx as nx"
      ]
    },
    {
      "cell_type": "markdown",
      "id": "8576d3e1-7e8b-4d69-9baa-8b6867c226e3",
      "metadata": {},
      "source": [
        "## LLM from scratch: Automatic Differentiation\n",
        "\n",
        "I’m building a modern language model with all the bells and whistles\n",
        "completely from scratch: from vanilla python to functional coding\n",
        "assistant. Borrowing (shamelessly stealing) from computer games, I’ve\n",
        "built a tech tree of everything that I think I’ll need to implement to\n",
        "get a fully functional language model. If you think anything is missing,\n",
        "[please let me know](mailto:bclarkson-code@proton.me):\n",
        "\n",
        "![The LLM from scratch tech tree](https://raw.githubusercontent.com/bclarkson-code/bclarkson-code.github.io/master/posts/llm-from-scratch-scalar-autograd/images/tech_tree_post_1.png)\n",
        "\n",
        "Before we can move onto building modern features like [Rotary Positional\n",
        "Encodings](https://arxiv.org/abs/2104.09864), we first need to figure\n",
        "out how to differentiate with a computer. The backpropagation algorithm\n",
        "that underpins the entire field of Deep Learning requires the ability to\n",
        "differentiate the outputs of neural networks with respect to (wrt) their\n",
        "inputs. In this post, we’ll go from nothing to an (admittedly very\n",
        "limited) automatic differentiation library that can differentiate\n",
        "arbitrary functions of scalar values.\n",
        "\n",
        "This one algorithm will form the core of our deep learning library that,\n",
        "eventually, will include everything we need to train a language model.\n",
        "\n",
        "## Creating a tensor\n",
        "\n",
        "We can’t do any differentiation if we don’t have any numbers to\n",
        "differentiate. We’ll want to add some extra functionality that is in\n",
        "standard `float` types so we’ll need to create our own. Let’s call it a\n",
        "`Tensor`."
      ]
    },
    {
      "cell_type": "code",
      "execution_count": 2,
      "id": "3eadf680",
      "metadata": {},
      "outputs": [
        {
          "data": {
            "text/plain": [
              "Tensor(5)"
            ]
          },
          "metadata": {},
          "output_type": "display_data"
        }
      ],
      "source": [
        "class Tensor:\n",
        "    \"\"\"\n",
        "    Just a number (for now)\n",
        "    \"\"\"\n",
        "\n",
        "    value: float\n",
        "\n",
        "    def __init__(self, value: float):\n",
        "        self.value = value\n",
        "\n",
        "    def __repr__(self) -> str:\n",
        "        \"\"\"\n",
        "        Create a printable string representation of this\n",
        "        object\n",
        "\n",
        "        This function gets called when you pass a Tensor to print\n",
        "\n",
        "        Without this function:\n",
        "        >>> print(Tensor(5))\n",
        "        <__main__.Tensor at 0x104fd1950>\n",
        "\n",
        "        With this function:\n",
        "        >>> print(Tensor(5))\n",
        "        Tensor(5)\n",
        "        \"\"\"\n",
        "        return f\"Tensor({self.value})\"\n",
        "\n",
        "\n",
        "# try it out\n",
        "Tensor(5)"
      ]
    },
    {
      "cell_type": "markdown",
      "id": "5ddcdce4-7de4-48b7-8841-06275d37c00e",
      "metadata": {},
      "source": [
        "Next we’ll need some simple operations we want to perform: addition,\n",
        "subtraction and multiplication."
      ]
    },
    {
      "cell_type": "code",
      "execution_count": 3,
      "id": "0dc59a5c",
      "metadata": {},
      "outputs": [],
      "source": [
        "def _add(a: Tensor, b: Tensor):\n",
        "    \"\"\"\n",
        "    Add two tensors\n",
        "    \"\"\"\n",
        "    return Tensor(a.value + b.value)\n",
        "\n",
        "\n",
        "def _sub(a: Tensor, b: Tensor):\n",
        "    \"\"\"\n",
        "    Subtract tensor b from tensor a\n",
        "    \"\"\"\n",
        "    return Tensor(a.value - b.value)\n",
        "\n",
        "\n",
        "def _mul(a: Tensor, b: Tensor):\n",
        "    \"\"\"\n",
        "    Multiply two tensors\n",
        "    \"\"\"\n",
        "    return Tensor(a.value * b.value)"
      ]
    },
    {
      "cell_type": "markdown",
      "id": "bda0f39f-f60b-4d50-9231-379a4072b93b",
      "metadata": {},
      "source": [
        "We can use use our operations as follows:"
      ]
    },
    {
      "cell_type": "code",
      "execution_count": 4,
      "id": "2dd89092",
      "metadata": {},
      "outputs": [
        {
          "name": "stdout",
          "output_type": "stream",
          "text": [
            "✅ - Want: 7, Got: 7\n",
            "✅ - Want: -1, Got: -1\n",
            "✅ - Want: 12, Got: 12"
          ]
        }
      ],
      "source": [
        "def test(got: Any, want: Any):\n",
        "    \"\"\"\n",
        "    Check that two objects are equal to each other\n",
        "    \"\"\"\n",
        "    indicator = \"✅\" if want == got else \"❌\"\n",
        "    print(f\"{indicator} - Want: {want}, Got: {got}\")\n",
        "\n",
        "\n",
        "a = Tensor(3)\n",
        "b = Tensor(4)\n",
        "\n",
        "\n",
        "test(_add(a, b).value, 7)\n",
        "test(_sub(a, b).value, -1)\n",
        "test(_mul(a, b).value, 12)"
      ]
    },
    {
      "cell_type": "markdown",
      "id": "2dee4e11-bcff-4bed-b52e-d9dc6ebe0e5d",
      "metadata": {},
      "source": [
        "## Scalar derivatives\n",
        "\n",
        "Diving straight into differentiating matrices sounds too hard so let’s\n",
        "start with something simpler: differentiating scalars. The simplest\n",
        "scalar derivative I can think of is differentiating a tensor with\n",
        "respect to itself: $$\\frac{dx}{dx} = 1$$\n",
        "\n",
        "A more interesting case is the derivative of two tensors added together\n",
        "(note we are using partial derivatives because our function has multiple\n",
        "inputs): $$f(x, y) = x + y$$ $$\\frac{\\partial f}{\\partial x} = 1$$\n",
        "$$\\frac{\\partial f}{\\partial y} = 1$$\n",
        "\n",
        "We can do a similar thing for multiplication and subtraction\n",
        "\n",
        "| $f(x, y)$    | $\\frac{\\partial f}{\\partial x}$ | $\\frac{\\partial f}{\\partial y}$ |\n",
        "|------------------------|------------------------|------------------------|\n",
        "| $x + y$      | $1$                             | $1$                             |\n",
        "| $x - y$      | $1$                             | $-1$                            |\n",
        "| $x \\times y$ | $y$                             | $x$                             |\n",
        "\n",
        "Now that we’ve worked out these derivatives mathematically, the next\n",
        "step is to convert them into code. In the table above, when we make a\n",
        "tensor by combining two tensors with an operation, the derivative only\n",
        "ever depends on the inputs and the operation. There is no “hidden\n",
        "state”.\n",
        "\n",
        "This means that the only information we need to store is the inputs to\n",
        "an operation and a function to calculate the derivative wrt each input.\n",
        "With this, we should be able to differentiate any binary function wrt\n",
        "its inputs. A good place to store this information is in the tensor that\n",
        "is produced by the operation.\n",
        "\n",
        "We’ll add some new attributes to our `Tensor`: `args` and\n",
        "`local_derivatives`. If the tensor is the output of an operation, then\n",
        "`args` will store the arguments to the operation and `local_derivatives`\n",
        "will store the derivatives wrt each input. We’re calling it\n",
        "`local_derivatives` to avoid confusion when we start nesting functions.\n",
        "\n",
        "Once we’ve calculated the derivative (from our `args` and\n",
        "`local_derivatives`) we’ll need to store it. It turns out that the\n",
        "neatest place to put this is in the tensor that the output is being\n",
        "differentiated wrt. We’ll call this `derivative`."
      ]
    },
    {
      "cell_type": "code",
      "execution_count": 5,
      "id": "157265fc",
      "metadata": {},
      "outputs": [],
      "source": [
        "class Tensor:\n",
        "    \"\"\"\n",
        "    A number that can be differentiated\n",
        "    \"\"\"\n",
        "\n",
        "    # If the tensor was made by an operation, the operation arguments\n",
        "    # are stored in args\n",
        "    args: tuple[\"Tensor\"] = ()\n",
        "    # If the tensor was made by an operation, the derivatives wrt\n",
        "    # operation inputs are stored in derivatives\n",
        "    local_derivatives: tuple[\"Tensor\"] = ()\n",
        "    # The derivative we have calculated\n",
        "    derivative: Optional[\"Tensor\"] = None\n",
        "\n",
        "    def __init__(self, value: float):\n",
        "        self.value = value\n",
        "\n",
        "    def __repr__(self) -> str:\n",
        "        \"\"\"\n",
        "        Create a printable string representation of this\n",
        "        object\n",
        "\n",
        "        This function gets called when you pass a Tensor to print\n",
        "\n",
        "        Without this function:\n",
        "        >>> print(Tensor(5))\n",
        "        <__main__.Tensor at 0x104fd1950>\n",
        "\n",
        "        With this function:\n",
        "        >>> print(Tensor(5))\n",
        "        Tensor(5)\n",
        "        \"\"\"\n",
        "        return f\"Tensor({self.value})\""
      ]
    },
    {
      "cell_type": "markdown",
      "id": "5637a916-08db-4144-acc5-365e0c14b214",
      "metadata": {},
      "source": [
        "For example, if we have"
      ]
    },
    {
      "cell_type": "code",
      "execution_count": 6,
      "id": "cfb94a7d",
      "metadata": {},
      "outputs": [],
      "source": [
        "a = Tensor(3)\n",
        "b = Tensor(4)\n",
        "\n",
        "output = _mul(a, b)"
      ]
    },
    {
      "cell_type": "markdown",
      "id": "6dfa6a8f-7ad2-459f-a8b5-cfadc6ef5a13",
      "metadata": {},
      "source": [
        "Then `output.args` and `output.local_derivatives` should be set to:\n",
        "``` python\n",
        "output.args == (Tensor(3), Tensor(4))\n",
        "output.derivatives == (\n",
        "    b,  # derivative of output wrt a is b\n",
        "    a,  # derivative of output wrt b is a\n",
        ")\n",
        "```\n",
        "Once we have actually computed the derivatives, then the derivative of\n",
        "`output` wrt `a` will be stored in `a.derivative` and should be equal to\n",
        "`b` (which is 4 in this case).\n",
        "\n",
        "We know that we’ve done everything right once these tests pass:"
      ]
    },
    {
      "cell_type": "code",
      "execution_count": 7,
      "id": "298f6ab0",
      "metadata": {},
      "outputs": [
        {
          "name": "stdout",
          "output_type": "stream",
          "text": [
            "❌ - Want: (Tensor(3), Tensor(4)), Got: ()\n",
            "❌ - Want: (Tensor(4), Tensor(3)), Got: ()\n",
            "❌ - Want: Tensor(4), Got: None\n",
            "❌ - Want: Tensor(3), Got: None"
          ]
        }
      ],
      "source": [
        "a = Tensor(3)\n",
        "b = Tensor(4)\n",
        "\n",
        "output = _mul(a, b)\n",
        "\n",
        "# TODO: differentiate here\n",
        "\n",
        "test(got=output.args, want=(a, b))\n",
        "test(got=output.local_derivatives, want=(b, a))\n",
        "test(got=a.derivative, want=b)\n",
        "test(got=b.derivative, want=a)"
      ]
    },
    {
      "cell_type": "markdown",
      "id": "35f004d0-e940-4b88-b302-324d27122a69",
      "metadata": {},
      "source": [
        "First, let’s add a function to our `Tensor` that will actually calculate\n",
        "the derivatives for each of the function arguments. Pytorch calls this\n",
        "function `backward` so we’ll do the same."
      ]
    },
    {
      "cell_type": "code",
      "execution_count": 8,
      "id": "1c5f28f5",
      "metadata": {},
      "outputs": [],
      "source": [
        "class Tensor:\n",
        "    \"\"\"\n",
        "    A number that can be differentiated\n",
        "    \"\"\"\n",
        "\n",
        "    # If the tensor was made by an operation, the operation arguments\n",
        "    # are stored in args\n",
        "    args: tuple[\"Tensor\"] = ()\n",
        "    # If the tensor was made by an operation, the derivatives wrt\n",
        "    # operation inputs are stored in\n",
        "    local_derivatives: tuple[\"Tensor\"] = ()\n",
        "    # The derivative we have calculated\n",
        "    derivative: Optional[\"Tensor\"] = None\n",
        "\n",
        "    # optionally give this tensor a name\n",
        "    name: Optional[str] = None\n",
        "    # Later, we'll want to record the path we followed to get\n",
        "    # to this tensor and some operations we did along the way\n",
        "    # don't worry about these for now\n",
        "    paths: List[Tensor] = None\n",
        "    chains: List[Tensor] = None\n",
        "\n",
        "    def __init__(self, value: float):\n",
        "        self.value = value\n",
        "\n",
        "    def backward(self):\n",
        "        if self.args is None or self.local_derivatives is None:\n",
        "            raise ValueError(\n",
        "                \"Cannot differentiate a Tensor that is not a function of other Tensors\"\n",
        "            )\n",
        "\n",
        "        for arg, derivative in zip(self.args, self.local_derivatives):\n",
        "            arg.derivative = derivative\n",
        "\n",
        "    def __repr__(self) -> str:\n",
        "        \"\"\"\n",
        "        Create a printable string representation of this\n",
        "        object\n",
        "\n",
        "        This function gets called when you pass a Tensor to print\n",
        "\n",
        "        Without this function:\n",
        "        >>> print(Tensor(5))\n",
        "        <__main__.Tensor at 0x104fd1950>\n",
        "\n",
        "        With this function:\n",
        "        >>> print(Tensor(5))\n",
        "        Tensor(5)\n",
        "        \"\"\"\n",
        "        return f\"Tensor({self.value})\""
      ]
    },
    {
      "cell_type": "markdown",
      "id": "303fc1a2-fdc3-45fe-ba6b-3a5fa82fcae7",
      "metadata": {},
      "source": [
        "This only works if we also store the arguments and derivatives in the\n",
        "output tensors of operations"
      ]
    },
    {
      "cell_type": "code",
      "execution_count": 9,
      "id": "0bb600cd",
      "metadata": {},
      "outputs": [],
      "source": [
        "def _add(a: Tensor, b: Tensor):\n",
        "    \"\"\"\n",
        "    Add two tensors\n",
        "    \"\"\"\n",
        "    result = Tensor(a.value + b.value)\n",
        "    result.local_derivatives = (Tensor(1), Tensor(1))\n",
        "    result.args = (a, b)\n",
        "    return result\n",
        "\n",
        "\n",
        "def _sub(a: Tensor, b: Tensor):\n",
        "    \"\"\"\n",
        "    Subtract tensor b from a\n",
        "    \"\"\"\n",
        "    result = Tensor(a.value - b.value)\n",
        "    result.local_derivatives = (Tensor(1), Tensor(-1))\n",
        "    result.args = (a, b)\n",
        "    return result\n",
        "\n",
        "\n",
        "def _mul(a: Tensor, b: Tensor):\n",
        "    \"\"\"\n",
        "    Multiply two tensors\n",
        "    \"\"\"\n",
        "    result = Tensor(a.value * b.value)\n",
        "    result.local_derivatives = (b, a)\n",
        "    result.args = (a, b)\n",
        "    return result"
      ]
    },
    {
      "cell_type": "markdown",
      "id": "0ac29891-a0e3-4c06-943f-132e126ff914",
      "metadata": {},
      "source": [
        "Let’s re-run our tests and see if it works"
      ]
    },
    {
      "cell_type": "code",
      "execution_count": 10,
      "id": "f89327bb",
      "metadata": {},
      "outputs": [
        {
          "name": "stdout",
          "output_type": "stream",
          "text": [
            "✅ - Want: (Tensor(3), Tensor(4)), Got: (Tensor(3), Tensor(4))\n",
            "✅ - Want: (Tensor(4), Tensor(3)), Got: (Tensor(4), Tensor(3))\n",
            "✅ - Want: Tensor(4), Got: Tensor(4)\n",
            "✅ - Want: Tensor(3), Got: Tensor(3)"
          ]
        }
      ],
      "source": [
        "a = Tensor(3)\n",
        "b = Tensor(4)\n",
        "\n",
        "output = _mul(a, b)\n",
        "\n",
        "output.backward()\n",
        "\n",
        "test(got=output.args, want=(a, b))\n",
        "test(got=output.local_derivatives, want=(b, a))\n",
        "test(a.derivative, b)\n",
        "test(b.derivative, a)"
      ]
    },
    {
      "cell_type": "markdown",
      "id": "4add4c0a-c7f6-4497-81ec-0be48c141384",
      "metadata": {},
      "source": [
        "So far so good, let’s try nesting operations."
      ]
    },
    {
      "cell_type": "code",
      "execution_count": 11,
      "id": "da98c63b",
      "metadata": {},
      "outputs": [
        {
          "name": "stdout",
          "output_type": "stream",
          "text": [
            "❌ - Want: Tensor(3), Got: None"
          ]
        }
      ],
      "source": [
        "a = Tensor(3)\n",
        "b = Tensor(4)\n",
        "\n",
        "output_1 = _mul(a, b)\n",
        "# z = a + (a * b)\n",
        "output_2 = _add(a, output_1)\n",
        "\n",
        "output_2.backward()\n",
        "\n",
        "# should get\n",
        "# dz/db = 0 + a = a\n",
        "test(b.derivative, a)"
      ]
    },
    {
      "cell_type": "markdown",
      "id": "c73bde9f-26d9-477e-a954-a47f784331d7",
      "metadata": {},
      "source": [
        "Something has gone wrong.\n",
        "\n",
        "We should have got `a` as the derivative for `b` but we got `0` instead.\n",
        "Looking through the `.backward()` function, the issue is pretty clear:\n",
        "we haven’t thought about nested functions. To get this example working,\n",
        "we’ll need to figure out how to calculate derivatives through multiple\n",
        "functions instead of just one.\n",
        "\n",
        "## Chaining Functions Together\n",
        "\n",
        "To calculate derivatives of nested functions, we can use a rule from\n",
        "calculus: The Chain Rule.\n",
        "\n",
        "For a variable $z$ generated by nested functions $f$ and $g$ such that\n",
        "$$z = f(g(x))$$\n",
        "\n",
        "Then the derivative of $z$ wrt $x$ is:\n",
        "$$\\frac{\\partial z}{\\partial x} = \\frac{\\partial f(u)}{\\partial u} \\frac{\\partial g(x)}{\\partial x}$$\n",
        "\n",
        "Here, $u$ is a dummy variable. $\\frac{\\partial f(u)}{\\partial u}$ means\n",
        "the derivative of $f$ wrt its input.\n",
        "\n",
        "For example, if\n",
        "\n",
        "$$f(x) = g(x)^2$$ \n",
        "\n",
        "Then we can define $u=g(x)$ and rewrite $f$ in terms\n",
        "of u\n",
        "$$f(u) = u^2 \\implies \\frac{\\partial f(u)}{\\partial u} = 2u = 2 g(x)$$\n",
        "\n",
        "### Multiple Variables\n",
        "\n",
        "The chain rule works as you might expect for functions of multiple\n",
        "variables. When differentiating wrt a variable, we can treat the other\n",
        "variables as constant and differentiate as normal $$z = f(g(x), h(y))$$\n",
        "\n",
        "$$\\frac{\\partial z}{\\partial x} = \\frac{\\partial f(u)}{\\partial u} \\frac{\\partial g(x)}{\\partial x}$$\n",
        "$$\\frac{\\partial z}{\\partial y} = \\frac{\\partial f(u)}{\\partial u} \\frac{\\partial h(y)}{\\partial y}$$\n",
        "\n",
        "If we have different functions that take the same input, we\n",
        "differentiate each of them individually and then add them together\n",
        "\n",
        "$$z = f(g(x), h(x))$$\n",
        "\n",
        "We get\n",
        "$$\\frac{\\partial z}{\\partial x} = \\frac{\\partial f(u)}{\\partial u}\\frac{\\partial g(x)}{\\partial x} + \\frac{\\partial f(u)}{\\partial u}\\frac{\\partial h(x)}{\\partial x}$$\n",
        "\n",
        "### More than 2 functions\n",
        "\n",
        "If we chain 3 functions together, we still just multiply the derivatives\n",
        "for each function together:\n",
        "\n",
        "$$\\frac{\\partial z}{\\partial x} = \\frac{\\partial f(u)}{\\partial u} \\frac{\\partial g(x)}{\\partial x} = \\frac{\\partial f(u)}{\\partial u} \\frac{\\partial g(u)}{\\partial u}\\frac{\\partial h(x)}{\\partial x}$$\n",
        "\n",
        "And this generalises to any amount of nesting\n",
        "\n",
        "$$z = f_1(f_2(....f_{n-1}(f_n(x))...)) $$\n",
        "$\\implies \\frac{\\partial z}{\\partial x} = \\frac{\\partial f_1(u)}{\\partial u}\\frac{\\partial f_2(u)}{\\partial u}...\\frac{\\partial f_{n-1}(u)}{\\partial u}\\frac{\\partial f_{n}(x)}{\\partial x}$\\$\n",
        "\n",
        "### A picture is worth a thousand equations\n",
        "\n",
        "As you probably noticed, the maths is starting to get quite dense. When\n",
        "we start working with neural networks, we can easily get 100s or 1000s\n",
        "of functions deep so to get a handle on things, we’ll need a different\n",
        "strategy. Helpfully, there is one: turning it into a graph.\n",
        "\n",
        "We can start with some rules:\n",
        "\n",
        "> Variables are represented with circles and operations are represented\n",
        "> with boxes\n",
        "\n",
        "![](https://raw.githubusercontent.com/bclarkson-code/bclarkson-code.github.io/master/posts/llm-from-scratch-scalar-autograd/images/variable_and_box.png)\n",
        "\n",
        "> Inputs to an operation are represented with arrows that point to the\n",
        "> operation box. Outputs point away.\n",
        "\n",
        "For example, here is the diagram for $z = mx$\n",
        "\n",
        "![](https://raw.githubusercontent.com/bclarkson-code/bclarkson-code.github.io/master/posts/llm-from-scratch-scalar-autograd/images/z_eq_mx.png)\n",
        "\n",
        "And that’s it! All of the equations we’ll be working with can be\n",
        "represented graphically using these simple rules. To try it out, let’s\n",
        "draw the diagram for a more complex formula:\n",
        "\n",
        "![](https://raw.githubusercontent.com/bclarkson-code/bclarkson-code.github.io/master/posts/llm-from-scratch-scalar-autograd/images/square_error.png)\n",
        "\n",
        "This is an example of a structure called a graph (also called a\n",
        "network). A lot of problem in computer science get much easier if you\n",
        "can represent them with a graph and this is no exception.\n",
        "\n",
        "The real power of these diagrams is that they can also help us with our\n",
        "derivatives. Take $$y = mx + p = \\texttt{add}(p, \\texttt{mul}(m ,x)).$$\n",
        "\n",
        "From before, we can find its derivatives by differentiating each\n",
        "operation wrt its inputs and multiplying the results together. In this\n",
        "case, we get:\n",
        "$$\\frac{\\partial y}{\\partial p} = \\frac{\\partial \\texttt{add}(u_1, u_2)}{\\partial u_1} = 1$$\n",
        "$$\\frac{\\partial y}{\\partial m} = \\frac{\\partial \\texttt{add}(u_1, u_2)}{\\partial u_2}\\frac{\\partial \\texttt{mul}(u_1, u_2)}{\\partial u_2} = 1 \\times x = x$$\n",
        "$$\\frac{\\partial y}{\\partial x} = \\frac{\\partial \\texttt{add}(u_1, u_2)}{\\partial u_2}\\frac{\\partial \\texttt{mul}(u_1, u_2)}{\\partial u_1} = 1 \\times m = m$$\n",
        "\n",
        "We can also graph it like this:\n",
        "\n",
        "![](https://raw.githubusercontent.com/bclarkson-code/bclarkson-code.github.io/master/posts/llm-from-scratch-scalar-autograd/images/y_eq_mx_plus_p_labelled.png)\n",
        "\n",
        "If you imagine walking from $y$ to each of the inputs, you might notice\n",
        "a similarity between the edges you pass through and the equations above.\n",
        "If you walk from $y$ to $x$, you’ll pass through `a->c->d`. Similarly,\n",
        "if you walk from $y$ to $m$, you’ll pass through `a->d->e`. Notice that\n",
        "both paths go through `c`, the edge coming out of `add` that corresponds\n",
        "to the input $u_2$. Also, both equations include the term\n",
        "$\\frac{\\partial \\texttt{add}(u_1, u_2)}{\\partial u_2}$.\n",
        "\n",
        "If I rename the edges as follows:\n",
        "\n",
        "![](https://raw.githubusercontent.com/bclarkson-code/bclarkson-code.github.io/master/posts/llm-from-scratch-scalar-autograd/images/y_eq_mx_plus_p_deriv.png)\n",
        "\n",
        "We can see that going from $y$ to $x$, we pass through $1$,\n",
        "$\\frac{\\partial \\texttt{add}(u_1, u_2)}{\\partial u_2}$ and\n",
        "$\\frac{\\partial \\texttt{mul}(u_1, u_2)}{\\partial u_1}$. If we multiply\n",
        "these together, we get exactly\n",
        "$\\frac{\\partial \\texttt{add}(u_1, u_2)}{\\partial u_2}\\frac{\\partial \\texttt{mul}(u_1, u_2)}{\\partial u_1} = \\frac{\\partial y}{\\partial x}$!\n",
        "\n",
        "It turns out that this rule works in general:\n",
        "\n",
        "> If we have some operation $\\texttt{op}(u_1, u_2, ..., u_n)$, we should\n",
        "> label the edge corresponding to input $u_i$ with\n",
        "> $\\frac{\\partial \\texttt{op}(u_1, u_2, ..., u_n)}{\\partial u_i}$\n",
        "\n",
        "Then, if we want to find the derivative of the output node wrt any of\n",
        "the inputs,\n",
        "\n",
        "> The derivative of an output variable wrt one of the input variables\n",
        "> can be found by traversing the graph from the output to the input and\n",
        "> multiplying together the derivatives for every edge on the path\n",
        "\n",
        "To cover every edge case, there are some extra details\n",
        "\n",
        "> If a graph contains multiple paths from the output to an input, then\n",
        "> the derivative is the sum of the products for each path\n",
        "\n",
        "This comes from the case we saw earlier where when we have different\n",
        "functions that have the same input we have to add their derivative\n",
        "chains together.\n",
        "\n",
        "> If an edge is not the input to any function, its derivative is 1\n",
        "\n",
        "This covers the edge that leads from the final operation to the output.\n",
        "You can think of the edge having the derivative\n",
        "$\\frac{\\partial y}{\\partial y}=1$\n",
        "\n",
        "And that’s it! Let’s try it out with $z = (x + c)x$:\n",
        "\n",
        "![](https://raw.githubusercontent.com/bclarkson-code/bclarkson-code.github.io/master/posts/llm-from-scratch-scalar-autograd/images/z_eq_xx_plus_xc.png)\n",
        "\n",
        "Here, instead of writing the formulae for each derivative, I have gone\n",
        "ahead and calculated their actual values. Instead of just figuring out\n",
        "the formulae for a derivative, we want to calculate its value when we\n",
        "plug in our input parameters.\n",
        "\n",
        "All that remains is to multiply the local derivatives together along\n",
        "each path. We’ll call the product of derivatives along a single path a\n",
        "chain (after the chain rule)\n",
        "\n",
        "We can get from $z$ to $x$ via the green path and the red path.\n",
        "Following these paths, we get:\n",
        "\n",
        "$$\\text{red path} = 1 \\times (x + c) = x + c$$ \n",
        "\n",
        "Along the green path we\n",
        "get: $$\\text{green path} = 1 \\times x \\times 1 = x$$\n",
        "\n",
        "Adding these together, we get $(x+c) + x = 2x + c$\n",
        "\n",
        "If we work out the derivative algebraically:\n",
        "\n",
        "$$\\frac{\\partial z}{\\partial x} = \\frac{\\partial}{\\partial x}((x+c)x) = \\frac{\\partial}{\\partial x}(x^2 + cx) = \\frac{\\partial x^2}{\\partial x} + c\\frac{\\partial x}{\\partial x} = 2x + c$$\n",
        "\n",
        "We can see that it seems to work! Calculating\n",
        "$\\frac{\\partial z}{\\partial c}$ is left as an exercise for the reader\n",
        "(I’ve always wanted to say that).\n",
        "\n",
        "To summarise, we have invented the following algorithm for calculating\n",
        "of a variable wrt its inputs:\n",
        "\n",
        "1.  Turn the equation into a graph\n",
        "2.  Label each edge with the appropriate derivative\n",
        "3.  Find every path from the output to the input variable you care about\n",
        "4.  Follow each path and multiply the derivatives you pass through\n",
        "5.  Add together the results for each path\n",
        "\n",
        "Now that we have an algorithm in pictures and words, let’s turn it into\n",
        "code.\n",
        "\n",
        "### The Algorithm™\n",
        "\n",
        "Surprisingly, we have actually already converted our functions into\n",
        "graphs. If you recall, when we generate a tensor from an operation, we\n",
        "record the inputs to the operation in the output tensor (in `.args`). We\n",
        "also stored the functions to calculate derivatives for each of the\n",
        "inputs in `.local_derivatives` which means that we know both the\n",
        "destination and derivative for every edge that points to a given node.\n",
        "This means that we’ve already completed steps 1 and 2.\n",
        "\n",
        "The next challenge is to find all paths from the tensor we want to\n",
        "differentiate to the input tensors that created it. Because none of our\n",
        "operations are self referential (outputs are never fed back in as\n",
        "inputs), and all of our edges have a direction, our graph of operations\n",
        "is a directed acyclic graph or DAG. The property of the graph having no\n",
        "cycles means that we can find all paths to every parameter pretty easily\n",
        "with a Breadth First Search (or Depth First Search but BFS makes some\n",
        "optimisations easier as we’ll see in part 2).\n",
        "\n",
        "To try it out, let’s recreate that giant graph we made earlier. We can\n",
        "do this by first calculating $L$ from the inputs"
      ]
    },
    {
      "cell_type": "code",
      "execution_count": 12,
      "id": "723c3d9d",
      "metadata": {},
      "outputs": [],
      "source": [
        "y = Tensor(1)\n",
        "m = Tensor(2)\n",
        "x = Tensor(3)\n",
        "c = Tensor(4)\n",
        "\n",
        "# L = (y - (mx + c))^2\n",
        "left = _sub(y, _add(_mul(m, x), c))\n",
        "right = _sub(y, _add(_mul(m, x), c))\n",
        "\n",
        "L = _mul(left, right)\n",
        "\n",
        "# Attaching names to tensors will make our\n",
        "# diagram look nicer\n",
        "y.name = \"y\"\n",
        "m.name = \"m\"\n",
        "x.name = \"x\"\n",
        "c.name = \"c\"\n",
        "L.name = \"L\""
      ]
    },
    {
      "cell_type": "markdown",
      "id": "aac8141d-bd3f-4acb-8cf1-0382f06ed0d6",
      "metadata": {},
      "source": [
        "And then using Breadth First Search to do 3 things:\n",
        "\n",
        "-   Find all nodes\n",
        "-   Find all edges\n",
        "-   Find all paths from $L$ to our parameters\n",
        "\n",
        "We haven’t implemented a simple way to check whether two tensors are\n",
        "identical so we’ll need to compare hashes."
      ]
    },
    {
      "cell_type": "code",
      "execution_count": 13,
      "id": "ae51611b",
      "metadata": {},
      "outputs": [],
      "source": [
        "edges = []\n",
        "\n",
        "stack = [(L, [L])]\n",
        "\n",
        "nodes = []\n",
        "edges = []\n",
        "while stack:\n",
        "    node, current_path = stack.pop()\n",
        "    # Record nodes we haven't seen before\n",
        "    if hash(node) not in [hash(n) for n in nodes]:\n",
        "        nodes.append(node)\n",
        "\n",
        "    # If we have reached a parameter (it has no arguments\n",
        "    # because it wasn't created by an operation) then\n",
        "    # record the path taken to get here\n",
        "    if not node.args:\n",
        "        if node.paths is None:\n",
        "            node.paths = []\n",
        "        node.paths.append(current_path)\n",
        "        continue\n",
        "\n",
        "    for arg in node.args:\n",
        "        stack.append((arg, current_path + [arg]))\n",
        "        # Record every new edge\n",
        "        edges.append((hash(node), hash(arg)))"
      ]
    },
    {
      "cell_type": "markdown",
      "id": "17f53589-e03c-4ebe-a403-c42a5a731d78",
      "metadata": {},
      "source": [
        "Now we’ve got all of the edges and nodes, we have complete knowledge of\n",
        "our computational graph. Let’s use networkx to plot it"
      ]
    },
    {
      "cell_type": "code",
      "execution_count": 14,
      "id": "c71e82c3",
      "metadata": {},
      "outputs": [
        {
          "data": {
            "image/png": "[encoded data removed]"
          },
          "metadata": {},
          "output_type": "display_data"
        }
      ],
      "source": [
        "# Assign a unique integer to each\n",
        "# unnamed node so we know which\n",
        "# node is which in the picture\n",
        "labels = {}\n",
        "for i, node in enumerate(nodes):\n",
        "    if node.name is None:\n",
        "        labels[hash(node)] = str(i)\n",
        "    else:\n",
        "        labels[hash(node)] = node.name\n",
        "\n",
        "graph = nx.DiGraph()\n",
        "graph.add_edges_from(edges)\n",
        "pos = nx.nx_agraph.pygraphviz_layout(graph, prog=\"dot\")\n",
        "nx.draw(graph, pos=pos, labels=labels)"
      ]
    },
    {
      "cell_type": "markdown",
      "id": "056aa165-15d2-453c-829f-c451f76c27e1",
      "metadata": {},
      "source": [
        "If you squint a bit, you can see that this looks like the graph we made\n",
        "earlier! Let’s take a look at the paths the algorithm found from $L$ to\n",
        "$x$."
      ]
    },
    {
      "cell_type": "code",
      "execution_count": 15,
      "id": "5cbfaca7",
      "metadata": {},
      "outputs": [
        {
          "name": "stdout",
          "output_type": "stream",
          "text": [
            "L->1->2->4->x\n",
            "L->8->9->10->x"
          ]
        }
      ],
      "source": [
        "for path in x.paths:\n",
        "    steps = []\n",
        "    for step in path:\n",
        "        steps.append(labels[hash(step)])\n",
        "    print(\"->\".join(steps))"
      ]
    },
    {
      "cell_type": "markdown",
      "id": "c592c6be-bed9-4629-8478-c25bbe3be583",
      "metadata": {},
      "source": [
        "The paths look correct! All we need to do now is to modify the algorithm\n",
        "a bit to keep track of the chain of derivatives along each path."
      ]
    },
    {
      "cell_type": "code",
      "execution_count": 16,
      "id": "7d1520ad",
      "metadata": {},
      "outputs": [],
      "source": [
        "y = Tensor(1)\n",
        "m = Tensor(2)\n",
        "x = Tensor(3)\n",
        "c = Tensor(4)\n",
        "\n",
        "# L = (y - (mx + c))^2\n",
        "left = _sub(y, _add(_mul(m, x), c))\n",
        "right = _sub(y, _add(_mul(m, x), c))\n",
        "\n",
        "L = _mul(left, right)\n",
        "\n",
        "y.name = \"y\"\n",
        "m.name = \"m\"\n",
        "x.name = \"x\"\n",
        "c.name = \"c\"\n",
        "L.name = \"L\""
      ]
    },
    {
      "cell_type": "code",
      "execution_count": 17,
      "id": "05bd19de",
      "metadata": {},
      "outputs": [],
      "source": [
        "stack = [(L, [L], [])]\n",
        "\n",
        "nodes = []\n",
        "edges = []\n",
        "while stack:\n",
        "    node, current_path, current_chain = stack.pop()\n",
        "    # Record nodes we haven't seen before\n",
        "    if hash(node) not in [hash(n) for n in nodes]:\n",
        "        nodes.append(node)\n",
        "\n",
        "    # If we have reached a parameter (it has no arguments\n",
        "    # because it wasn't created by an operation) then\n",
        "    # record the path taken to get here\n",
        "    if not node.args:\n",
        "        if node.paths is None:\n",
        "            node.paths = []\n",
        "        if node.chains is None:\n",
        "            node.chains = []\n",
        "        node.paths.append(current_path)\n",
        "        node.chains.append(current_chain)\n",
        "        continue\n",
        "\n",
        "    for arg, op in zip(node.args, node.local_derivatives):\n",
        "        next_node = arg\n",
        "        next_path = current_path + [arg]\n",
        "        next_chain = current_chain + [op]\n",
        "\n",
        "        stack.append((arg, next_path, next_chain))\n",
        "\n",
        "        # Record every new edge\n",
        "        edges.append((hash(node), hash(arg)))"
      ]
    },
    {
      "cell_type": "markdown",
      "id": "76b4b78e-4dfb-407f-90ef-d58418ad9451",
      "metadata": {},
      "source": [
        "Let’s check if the derivatives were recorded correctly."
      ]
    },
    {
      "cell_type": "code",
      "execution_count": 18,
      "id": "1fa8d16a",
      "metadata": {},
      "outputs": [
        {
          "name": "stdout",
          "output_type": "stream",
          "text": [
            "Number of chains: 2\n",
            "[Tensor(-9), Tensor(-1), Tensor(1), Tensor(2)]\n",
            "[Tensor(-9), Tensor(-1), Tensor(1), Tensor(2)]"
          ]
        }
      ],
      "source": [
        "print(f\"Number of chains: {len(x.chains)}\")\n",
        "for chain in x.chains:\n",
        "    print(chain)"
      ]
    },
    {
      "cell_type": "markdown",
      "id": "e7d4793f-a15b-4259-b7f1-9745b01c1da8",
      "metadata": {},
      "source": [
        "Looks reasonable so far. We have 2 identical paths, each with 4\n",
        "derivatives (one for each edge in the path) as expected.\n",
        "\n",
        "Let’s multiply the derivatives together along each path and add the\n",
        "total for each path together and see if we get the right answer.\n",
        "\n",
        "According my calculations (and [Wolfram\n",
        "Alpha](https://www.wolframalpha.com/)) the derivative of $L$ wrt $x$ is:\n",
        "$$\\frac{\\partial L}{\\partial x} = 2m (c + mx - y)$$ \n",
        "Plugging the values for our tensors in, we get \n",
        "$$2\\times2 (4 + (2\\times3) - 1) = 36$$"
      ]
    },
    {
      "cell_type": "code",
      "execution_count": 19,
      "id": "3684cd63",
      "metadata": {},
      "outputs": [
        {
          "data": {
            "text/plain": [
              "Tensor(36)"
            ]
          },
          "metadata": {},
          "output_type": "display_data"
        }
      ],
      "source": [
        "total_derivative = Tensor(0)\n",
        "for chain in x.chains:\n",
        "    chain_total = Tensor(1)\n",
        "    for step in chain:\n",
        "        chain_total = _mul(chain_total, step)\n",
        "    total_derivative = _add(total_derivative, chain_total)\n",
        "\n",
        "total_derivative"
      ]
    },
    {
      "cell_type": "markdown",
      "id": "0fbc0d49-49f3-4cf3-9678-a0bbea986af6",
      "metadata": {},
      "source": [
        "The correct answer! It looks like our algorithm works. All that remains\n",
        "is to put all the pieces together.\n",
        "\n",
        "## Putting it all together\n",
        "\n",
        "When dreaming up the algorithm, we kept a record of the nodes, edges and\n",
        "paths which made plotting and debugging easier. Now that we know that it\n",
        "works, we can remove these and simplify things a bit."
      ]
    },
    {
      "cell_type": "code",
      "execution_count": 20,
      "id": "98fbe3e0",
      "metadata": {},
      "outputs": [],
      "source": [
        "def backward(root_node: Tensor) -> None:\n",
        "    stack = [(root_node, [])]\n",
        "\n",
        "    while stack:\n",
        "        node, current_derivative = stack.pop()\n",
        "\n",
        "        # if we have reached a parameter (it has no arguments\n",
        "        # because it wasn't created by an operation) then\n",
        "        # record the path taken to get here\n",
        "        if not node.args:\n",
        "            if node.chains is None:\n",
        "                node.chains = []\n",
        "            node.chain.append(current_derivative)\n",
        "            continue\n",
        "\n",
        "        for arg, op in zip(node.args, node.local_derivatives):\n",
        "            stack.append((arg, current_derivative + [op]))"
      ]
    },
    {
      "cell_type": "markdown",
      "id": "a88f059e-e7d2-47d8-86f6-b96f3b861523",
      "metadata": {},
      "source": [
        "There is also no need (for now) to store the derivatives and calculate\n",
        "them separately. Instead, we can avoid a bunch of repeated calculations\n",
        "by multiplying the derivatives as we go."
      ]
    },
    {
      "cell_type": "code",
      "execution_count": 21,
      "id": "efb685bf",
      "metadata": {},
      "outputs": [],
      "source": [
        "def backward(root_node: Tensor) -> None:\n",
        "    stack = [(root_node, Tensor(1))]\n",
        "\n",
        "    while stack:\n",
        "        node, current_derivative = stack.pop()\n",
        "\n",
        "        # if we have reached a parameter (it has no arguments\n",
        "        # because it wasn't created by an operation) then add the\n",
        "        # derivative\n",
        "        if not node.args:\n",
        "            if node.derivative is None:\n",
        "                node.derivative = current_derivative\n",
        "            else:\n",
        "                node.derivative = _add(node.derivative, current_derivative)\n",
        "            continue\n",
        "\n",
        "        for arg, derivative in zip(node.args, node.local_derivatives):\n",
        "            stack.append((arg, _mul(current_derivative, derivative)))"
      ]
    },
    {
      "cell_type": "markdown",
      "id": "c5c5ece9-0147-4266-83fa-4ce1604f7b9a",
      "metadata": {},
      "source": [
        "Let’s make sure we didn’t break anything"
      ]
    },
    {
      "cell_type": "code",
      "execution_count": 22,
      "id": "3b87e332",
      "metadata": {},
      "outputs": [
        {
          "name": "stdout",
          "output_type": "stream",
          "text": [
            "x.derivative = Tensor(36)\n",
            "\n",
            "✅ - Want: 36, Got: 36"
          ]
        }
      ],
      "source": [
        "y = Tensor(1)\n",
        "m = Tensor(2)\n",
        "x = Tensor(3)\n",
        "c = Tensor(4)\n",
        "\n",
        "left = _sub(y, _add(_mul(m, x), c))\n",
        "right = _sub(y, _add(_mul(m, x), c))\n",
        "\n",
        "L = _mul(left, right)\n",
        "backward(L)\n",
        "\n",
        "print(f\"{x.derivative = }\\n\")\n",
        "test(got=x.derivative.value, want=36)"
      ]
    },
    {
      "cell_type": "markdown",
      "id": "2011d684-400e-4609-b874-31ce7a69a8b3",
      "metadata": {},
      "source": [
        "Let’s put this algorithm into our Tensor object"
      ]
    },
    {
      "cell_type": "code",
      "execution_count": 23,
      "id": "5adba953",
      "metadata": {},
      "outputs": [],
      "source": [
        "class Tensor:\n",
        "    \"\"\"\n",
        "    A float that can be differentiated\n",
        "    \"\"\"\n",
        "\n",
        "    args: tuple[Tensor] = ()\n",
        "    local_derivatives: tuple[Tensor] = ()\n",
        "    # The derivative (once we've calculated it).  This is None if the derivative\n",
        "    # has not been computed yet\n",
        "    derivative: Tensor | None = None\n",
        "\n",
        "    def __init__(self, value: float):\n",
        "        self.value = value\n",
        "\n",
        "    def __repr__(self) -> str:\n",
        "        return f\"Tensor({self.value.__repr__()})\"\n",
        "\n",
        "    def backward(self):\n",
        "        if self.args is None or self.local_derivatives is None:\n",
        "            raise ValueError(\n",
        "                \"Cannot differentiate a Tensor that is not a function of other Tensors\"\n",
        "            )\n",
        "\n",
        "        stack = [(self, Tensor(1))]\n",
        "\n",
        "        while stack:\n",
        "            node, current_derivative = stack.pop()\n",
        "\n",
        "            # if we have reached a parameter (it has no arguments\n",
        "            # because it wasn't created by an operation) then add the\n",
        "            # derivative\n",
        "            if not node.args:\n",
        "                if node.derivative is None:\n",
        "                    node.derivative = Tensor(0)\n",
        "                node.derivative = _add(node.derivative, current_derivative)\n",
        "                continue\n",
        "\n",
        "            for arg, derivative in zip(node.args, node.local_derivatives):\n",
        "                new_derivative = _mul(current_derivative, derivative)\n",
        "                stack.append((arg, new_derivative))"
      ]
    },
    {
      "cell_type": "markdown",
      "id": "145b274a-932a-4473-bbdb-a8c76d2384d6",
      "metadata": {},
      "source": [
        "Let’s try it out"
      ]
    },
    {
      "cell_type": "code",
      "execution_count": 24,
      "id": "46554d75",
      "metadata": {},
      "outputs": [
        {
          "name": "stdout",
          "output_type": "stream",
          "text": [
            "❌ - Want: Tensor(36), Got: Tensor(36)"
          ]
        }
      ],
      "source": [
        "y = Tensor(1)\n",
        "m = Tensor(2)\n",
        "x = Tensor(3)\n",
        "c = Tensor(4)\n",
        "\n",
        "left = _sub(y, _add(_mul(m, x), c))\n",
        "right = _sub(y, _add(_mul(m, x), c))\n",
        "\n",
        "L = _mul(left, right)\n",
        "L.backward()\n",
        "\n",
        "test(x.derivative, Tensor(36))"
      ]
    },
    {
      "cell_type": "markdown",
      "id": "e3cb02db-2112-4c72-93ec-a59092a48d99",
      "metadata": {},
      "source": [
        "Huh?\n",
        "\n",
        "By default, if you compare two objects in python with `==`, python will\n",
        "check whether the object on the left has the same reference as the\n",
        "object as the one on the right. Because `Tensor(36)` is a different\n",
        "object (that just happens to have the same value) to `x.derivative`,\n",
        "`x.derivative == Tensor(36)` returns `False`.\n",
        "\n",
        "It makes a lot more sense to compare two tensors based upon their\n",
        "`.value`. To achieve this, we can add the `__eq__` special method to\n",
        "`Tensor` which will change the behaviour of the `==` operator for\n",
        "`Tensor` objects"
      ]
    },
    {
      "cell_type": "code",
      "execution_count": 25,
      "id": "2d97470e",
      "metadata": {},
      "outputs": [],
      "source": [
        "def __eq__(self, other) -> bool:\n",
        "    \"\"\"\n",
        "    Tells python to compare .value when applying the `==`\n",
        "    operation to two tensors instead of comparing references\n",
        "    \"\"\"\n",
        "    if not isinstance(other, \"Tensor\"):\n",
        "        raise TypeError(f\"Cannot compare a Tensor with a {type(other)}\")\n",
        "\n",
        "    return self.value == other.value"
      ]
    },
    {
      "cell_type": "markdown",
      "id": "50af880c-2b12-4891-9d38-6498c520a4d8",
      "metadata": {},
      "source": [
        "Similarly, if we try to use `+`, `-` or `*` on our tensors, we’ll get an\n",
        "error. We can tell python how to do these operations on our tensors by\n",
        "defining the following special functions:\n",
        "\n",
        "-   `__add__` let’s us use `+`\n",
        "-   `__sub__` let’s us use `-`\n",
        "-   `__mul__` let’s us use `*`"
      ]
    },
    {
      "cell_type": "code",
      "execution_count": 26,
      "id": "666021ea",
      "metadata": {},
      "outputs": [],
      "source": [
        "def __add__(self, other) -> Tensor:\n",
        "    if not isinstance(other, \"Tensor\"):\n",
        "        raise TypeError(f\"Cannot add a Tensor to a {type(other)}\")\n",
        "\n",
        "    return _add(self, other)\n",
        "\n",
        "\n",
        "def __sub__(self, other) -> Tensor:\n",
        "    if not isinstance(other, \"Tensor\"):\n",
        "        raise TypeError(f\"Cannot subtract a Tensor from a {type(other)}\")\n",
        "\n",
        "    return _sub(self, other)\n",
        "\n",
        "\n",
        "def __mul__(self, other) -> Tensor:\n",
        "    if not isinstance(other, \"Tensor\"):\n",
        "        raise TypeError(f\"Cannot multiply a Tensor with a {type(other)}\")\n",
        "    return _mul(self, other)"
      ]
    },
    {
      "cell_type": "markdown",
      "id": "b0092678-6c98-4c94-8b7c-d14d02e000a2",
      "metadata": {},
      "source": [
        "Finally, we can add the `__iadd__`, `__isub__` and `__imul__` methods to\n",
        "allow us to use `+=`, `-=` and `*=`."
      ]
    },
    {
      "cell_type": "code",
      "execution_count": 27,
      "id": "b831e67d",
      "metadata": {},
      "outputs": [],
      "source": [
        "def __iadd__(self, other) -> Tensor:\n",
        "    self = self.__add__(self, other)\n",
        "    return self\n",
        "\n",
        "\n",
        "def __isub__(self, other) -> Tensor:\n",
        "    self = self.__sub__(self, other)\n",
        "    return self\n",
        "\n",
        "\n",
        "def __imul__(self, other) -> Tensor:\n",
        "    self = self.__mul__(self, other)\n",
        "    return self"
      ]
    },
    {
      "cell_type": "markdown",
      "id": "4021436a-ee7e-403a-ad7c-ff72ebe9b793",
      "metadata": {},
      "source": [
        "While we’re here, let’s clean up our backward function a bit by\n",
        "replacing the ugly `_add` and `_mul` operations with `+` and `*`."
      ]
    },
    {
      "cell_type": "code",
      "execution_count": 28,
      "id": "e0e81e5c",
      "metadata": {},
      "outputs": [],
      "source": [
        "def backward(self):\n",
        "    if self.args is None or self.local_derivatives is None:\n",
        "        raise ValueError(\n",
        "            \"Cannot differentiate a Tensor that is not a function of other Tensors\"\n",
        "        )\n",
        "\n",
        "    stack = [(self, Tensor(1))]\n",
        "\n",
        "    while stack:\n",
        "        node, current_derivative = stack.pop()\n",
        "\n",
        "        # if we have reached a parameter (it has no arguments\n",
        "        # because it wasn't created by an operation) then add the\n",
        "        # derivative\n",
        "        if not node.args:\n",
        "            if node.derivative is None:\n",
        "                node.derivative += current_derivative\n",
        "            else:\n",
        "                node.derivative += current_derivative\n",
        "            continue\n",
        "\n",
        "        for arg, derivative in zip(node.args, node.local_derivatives):\n",
        "            stack.append((arg, current_derivative * derivative))"
      ]
    },
    {
      "cell_type": "markdown",
      "id": "6030461e-65f2-4acc-9805-a755d92e3eb3",
      "metadata": {},
      "source": [
        "Putting all of these improvements together, we get a final `Tensor`\n",
        "object as follows:"
      ]
    },
    {
      "cell_type": "code",
      "execution_count": 29,
      "id": "9e75eff0",
      "metadata": {},
      "outputs": [],
      "source": [
        "class Tensor:\n",
        "    \"\"\"\n",
        "    A float that can be differentiated\n",
        "    \"\"\"\n",
        "\n",
        "    args: tuple[Tensor] = ()\n",
        "    local_derivatives: tuple[Tensor] = ()\n",
        "    # The derivative (once we've calculated it).  This is None if the derivative\n",
        "    # has not been computed yet\n",
        "    derivative: Tensor | None = None\n",
        "\n",
        "    def __init__(self, value: float):\n",
        "        self.value = value\n",
        "\n",
        "    def __repr__(self) -> str:\n",
        "        return f\"Tensor({self.value.__repr__()})\"\n",
        "\n",
        "    def __eq__(self, other) -> bool:\n",
        "        if not isinstance(other, Tensor):\n",
        "            raise TypeError(f\"Cannot compare a Tensor with a {type(other)}\")\n",
        "        return self.value == other.value\n",
        "\n",
        "    def __add__(self, other) -> Tensor:\n",
        "        if not isinstance(other, Tensor):\n",
        "            raise TypeError(f\"Cannot add a Tensor to a {type(other)}\")\n",
        "        return _add(self, other)\n",
        "\n",
        "    def __sub__(self, other) -> Tensor:\n",
        "        if not isinstance(other, Tensor):\n",
        "            raise TypeError(f\"Cannot subtract a Tensor from a {type(other)}\")\n",
        "        return _sub(self, other)\n",
        "\n",
        "    def __mul__(self, other) -> Tensor:\n",
        "        if not isinstance(other, Tensor):\n",
        "            raise TypeError(f\"Cannot multiply a Tensor with a {type(other)}\")\n",
        "        return _mul(self, other)\n",
        "\n",
        "    def __iadd__(self, other) -> Tensor:\n",
        "        return self.__add__(other)\n",
        "\n",
        "    def __isub__(self, other) -> Tensor:\n",
        "        return self.__sub__(other)\n",
        "\n",
        "    def __imul__(self, other) -> Tensor:\n",
        "        return self.__mul__(other)\n",
        "\n",
        "    def __repr__(self) -> str:\n",
        "        return f\"Tensor({self.value})\"\n",
        "\n",
        "    def backward(self):\n",
        "        if self.args is None or self.local_derivatives is None:\n",
        "            raise ValueError(\n",
        "                \"Cannot differentiate a Tensor that is not a function of other Tensors\"\n",
        "            )\n",
        "\n",
        "        stack = [(self, Tensor(1))]\n",
        "\n",
        "        while stack:\n",
        "            node, current_derivative = stack.pop()\n",
        "\n",
        "            # if we have reached a parameter (it has no arguments\n",
        "            # because it wasn't created by an operation) then add the\n",
        "            # current_derivative to derivative\n",
        "            if not node.args:\n",
        "                if node.derivative is None:\n",
        "                    node.derivative = current_derivative\n",
        "                else:\n",
        "                    node.derivative += current_derivative\n",
        "                continue\n",
        "\n",
        "            for arg, derivative in zip(node.args, node.local_derivatives):\n",
        "                stack.append((arg, current_derivative * derivative))"
      ]
    },
    {
      "cell_type": "markdown",
      "id": "085f0c3b-4c1c-4cb6-b402-f5d501ddfca1",
      "metadata": {},
      "source": [
        "Let’s take it for a spin. We’ll try calculating $L$ again"
      ]
    },
    {
      "cell_type": "code",
      "execution_count": 30,
      "id": "f0aa0ee3",
      "metadata": {},
      "outputs": [
        {
          "name": "stdout",
          "output_type": "stream",
          "text": [
            "✅ - Want: Tensor(36), Got: Tensor(36)"
          ]
        }
      ],
      "source": [
        "y = Tensor(1)\n",
        "m = Tensor(2)\n",
        "x = Tensor(3)\n",
        "c = Tensor(4)\n",
        "\n",
        "diff = y - ((m * x) + c)\n",
        "L = diff * diff\n",
        "L.backward()\n",
        "\n",
        "test(got=x.derivative, want=Tensor(36))"
      ]
    },
    {
      "cell_type": "markdown",
      "id": "fa3301d6-2f7f-4216-9c5d-c37bd8c5c53b",
      "metadata": {},
      "source": [
        "Much easier!\n",
        "\n",
        "To really see what this baby can do, I asked a language model for the\n",
        "most complicated expression it could think of and it gave me this:\n",
        "\n",
        "$$f(x) = (2x^3 + 4x^2 - 5x) \\times (3x^2 - 2x + 7) - (6x^4 + 2x^3 - 8x^2) + (5x^2 - 3x)$$\n",
        "According to [Wolfram Alpha](https://www.wolframalpha.com/), the\n",
        "derivative of this expression is:\n",
        "$$\\frac{d f(x)}{dx} = -38 + 102 x - 33 x^2 + 8 x^3 + 30 x^4$$\n",
        "\n",
        "If we plug 2 into this equation, the answer is apparently 578 (again,\n",
        "thanks to [Wolfram Alpha](https://www.wolframalpha.com/)).\n",
        "\n",
        "Let’s try it with our algorithm"
      ]
    },
    {
      "cell_type": "code",
      "execution_count": 31,
      "id": "f7ac0190",
      "metadata": {},
      "outputs": [
        {
          "name": "stdout",
          "output_type": "stream",
          "text": [
            "✅ - Want: Tensor(578), Got: Tensor(578)"
          ]
        }
      ],
      "source": [
        "x = Tensor(2)\n",
        "\n",
        "y = (\n",
        "    (Tensor(2) * x * x * x + Tensor(4) * x * x - Tensor(5) * x)\n",
        "    * (Tensor(3) * x * x - Tensor(2) * x + Tensor(7))\n",
        "    - (Tensor(6) * x * x * x * x + Tensor(2) * x * x * x - Tensor(8) * x * x)\n",
        "    + (Tensor(5) * x * x - Tensor(3) * x)\n",
        ")\n",
        "\n",
        "y.backward()\n",
        "\n",
        "test(got=x.derivative, want=Tensor(578))"
      ]
    },
    {
      "cell_type": "markdown",
      "id": "5ae9ad49-cc16-483a-82ce-c027bd661f7f",
      "metadata": {},
      "source": [
        "Once again, we got the right answer!\n",
        "\n",
        "# Conclusion\n",
        "\n",
        "From nothing, we have now written an algorithm that will let us\n",
        "differentiate any mathematical expression (provided it only involves\n",
        "addition, subtraction and multiplication). We did this by converting our\n",
        "expression into a graph and re-imagining partial derivatives as\n",
        "operations on the edges of that graph. Then we found that we could apply\n",
        "Breadth First Search to combine all the derivatives together to get a\n",
        "final answer.\n",
        "\n",
        "Differentiating scalars is (I hope you agree) interesting, but it isn’t\n",
        "exactly GPT-4. That said, with a few small modifications to our\n",
        "algorithm, we can extend our algorithm to handle multi-dimensional\n",
        "tensors like matrices and vectors. Once you can do that, you can build\n",
        "up to backpropagation and, eventually, to a fully functional language\n",
        "model.\n",
        "\n",
        "Next time, we’ll extend our algorithm to vectors and matrices and build\n",
        "up from there to a working neural network. If you want to peek ahead,\n",
        "you can check out the repo for\n",
        "[Tricycle](https://github.com/bclarkson-code/Tricycle) which is the name\n",
        "for the deep learning framework we’re building."
      ]
    }
  ],
  "metadata": {
    "kernelspec": {
      "display_name": "Python 3 (ipykernel)",
      "language": "python",
      "name": "python3"
    }
  },
  "nbformat": 4,
  "nbformat_minor": 5
}
